{
 "cells": [
  {
   "cell_type": "code",
   "execution_count": 1,
   "metadata": {},
   "outputs": [],
   "source": [
    "import numpy as np\n",
    "import pandas as pd\n",
    "import statistics\n",
    "from math import factorial, comb, perm\n",
    "from scipy import stats"
   ]
  },
  {
   "cell_type": "code",
   "execution_count": 2,
   "metadata": {},
   "outputs": [
    {
     "data": {
      "text/plain": [
       "[0, 1, 4, 5, 5, 6, 7, 8, 9, 14]"
      ]
     },
     "execution_count": 2,
     "metadata": {},
     "output_type": "execute_result"
    }
   ],
   "source": [
    "#q1\n",
    "data = [0, 1, 4, 5, 5, 6, 7, 8, 9, 14, 20] # สร้างชุดข้อมูลที่กำหนดมาให้\n",
    "\n",
    "q1 = np.percentile(data, 25, method='weibull') # หา Q1\n",
    "q3 = np.percentile(data, 75, method='weibull') # หา Q3\n",
    "outlier_less = q1 - 1.5*(q3 - q1)\n",
    "outlier_more = q3 + 1.5*(q3 - q1)\n",
    "\n",
    "new_data = []\n",
    "for i in data:\n",
    "    if i >= outlier_less and i <= outlier_more:\n",
    "        new_data.append(i)\n",
    "    \n",
    "new_data"
   ]
  },
  {
   "cell_type": "code",
   "execution_count": 12,
   "metadata": {},
   "outputs": [
    {
     "name": "stdout",
     "output_type": "stream",
     "text": [
      "M4 Sem 1 : 3.89\n",
      "M4 Sem 2 : 3.90\n",
      "M5 Sem 1 : 3.69\n",
      "M5 Sem 2 : 3.74\n",
      "M6 Sem 1 : 3.48\n",
      "M6 Sem 2 : 3.83\n",
      "GPAX : 3.75\n"
     ]
    }
   ],
   "source": [
    "#q2\n",
    "grades = pd.read_csv('student_grade.csv')\n",
    "grades['prod_credit_grade'] = grades.credit*grades.grade\n",
    "\n",
    "gpa_4_1_df = grades[(grades['year'] == 4) & (grades['semester'] == 1)]\n",
    "gpa_4_1 = sum(gpa_4_1_df.prod_credit_grade)/sum(gpa_4_1_df.credit)\n",
    "gpa_4_2_df = grades[(grades['year'] == 4) & (grades['semester'] == 2)]\n",
    "gpa_4_2 = sum(gpa_4_2_df.prod_credit_grade)/sum(gpa_4_2_df.credit)\n",
    "\n",
    "gpa_5_1_df = grades[(grades['year'] == 5) & (grades['semester'] == 1)]\n",
    "gpa_5_1 = sum(gpa_5_1_df.prod_credit_grade)/sum(gpa_5_1_df.credit)\n",
    "gpa_5_2_df = grades[(grades['year'] == 5) & (grades['semester'] == 2)]\n",
    "gpa_5_2 = sum(gpa_5_2_df.prod_credit_grade)/sum(gpa_5_2_df.credit)\n",
    "\n",
    "gpa_6_1_df = grades[(grades['year'] == 6) & (grades['semester'] == 1)]\n",
    "gpa_6_1 = sum(gpa_6_1_df.prod_credit_grade)/sum(gpa_6_1_df.credit)\n",
    "gpa_6_2_df = grades[(grades['year'] == 6) & (grades['semester'] == 2)]\n",
    "gpa_6_2 = sum(gpa_6_2_df.prod_credit_grade)/sum(gpa_6_2_df.credit)\n",
    "\n",
    "gpax = sum(grades.prod_credit_grade)/sum(grades.credit)\n",
    "\n",
    "print(f'M4 Sem 1 : {gpa_4_1:.2f}')\n",
    "print(f'M4 Sem 2 : {gpa_4_2:.2f}')\n",
    "print(f'M5 Sem 1 : {gpa_5_1:.2f}')\n",
    "print(f'M5 Sem 2 : {gpa_5_2:.2f}')\n",
    "print(f'M6 Sem 1 : {gpa_6_1:.2f}')\n",
    "print(f'M6 Sem 2 : {gpa_6_2:.2f}')\n",
    "\n",
    "print(f'GPAX : {gpax:.2f}')"
   ]
  },
  {
   "cell_type": "code",
   "execution_count": 14,
   "metadata": {},
   "outputs": [
    {
     "name": "stdout",
     "output_type": "stream",
     "text": [
      "Dokjik = 306 Dokthong = 393\n",
      "SD of dokjik = 39.28448667980013 and SD of dokthong = 39.471719160524934\n",
      "Mean of dokjik = 75.33660130718954 and mean of dokthong = 67.43384223918575\n"
     ]
    }
   ],
   "source": [
    "#q4\n",
    "df_cafe = pd.read_csv('cafe.csv')\n",
    "data = df_cafe['duration'].str.split('-', expand=True).astype(int)\n",
    "df_cafe[['upper', 'lower']] = data\n",
    "df_cafe['mid'] = (df_cafe['upper'] + df_cafe['lower']) / 2\n",
    "df_cafe['fx_dokjik'] = df_cafe['dokjik'] * df_cafe['mid']\n",
    "df_cafe['fx_dokthong'] = df_cafe['dokthong'] * df_cafe['mid']\n",
    "#calculate mean\n",
    "mean_dokjik = df_cafe['fx_dokjik'].sum() / df_cafe['dokjik'].sum()\n",
    "mean_dokthong = df_cafe['fx_dokthong'].sum() / df_cafe['dokthong'].sum()\n",
    "#calculate standard deviasion\n",
    "sd_dokjik = np.sqrt((sum(df_cafe['dokjik'] * df_cafe['mid']**2) - sum(df_cafe['dokjik']) * mean_dokjik**2) / sum(df_cafe['dokjik'] - 1))\n",
    "sd_dokthong = np.sqrt((sum(df_cafe['dokthong'] * df_cafe['mid']**2) - sum(df_cafe['dokthong']) * mean_dokthong**2) / sum(df_cafe['dokthong'] - 1))\n",
    "\n",
    "print(f'Dokjik = {sum(df_cafe[\"dokjik\"])} Dokthong = {sum(df_cafe[\"dokthong\"])}')\n",
    "print(f'SD of dokjik = {sd_dokjik} and SD of dokthong = {sd_dokthong}')\n",
    "print(f'Mean of dokjik = {mean_dokjik} and mean of dokthong = {mean_dokthong}')"
   ]
  },
  {
   "cell_type": "code",
   "execution_count": 5,
   "metadata": {},
   "outputs": [
    {
     "data": {
      "text/plain": [
       "np.float64(0.9838223593135764)"
      ]
     },
     "execution_count": 5,
     "metadata": {},
     "output_type": "execute_result"
    }
   ],
   "source": [
    "#q12\n",
    "stats.binom.pmf(p = 0.02, n = 10, k = 0) + stats.binom.pmf(p = 0.02, n = 10, k = 1)"
   ]
  },
  {
   "cell_type": "code",
   "execution_count": 6,
   "metadata": {},
   "outputs": [
    {
     "data": {
      "text/plain": [
       "np.float64(0.7357590052150336)"
      ]
     },
     "execution_count": 6,
     "metadata": {},
     "output_type": "execute_result"
    }
   ],
   "source": [
    "#q13\n",
    "stats.binom.pmf(p = 0.002, n = 500, k = 0) + stats.binom.pmf(p = 0.002, n = 500, k = 1)"
   ]
  },
  {
   "cell_type": "code",
   "execution_count": 8,
   "metadata": {},
   "outputs": [
    {
     "data": {
      "text/plain": [
       "np.float64(0.007012975721723234)"
      ]
     },
     "execution_count": 8,
     "metadata": {},
     "output_type": "execute_result"
    }
   ],
   "source": [
    "#q17 poisson\n",
    "stats.poisson.pmf(mu = 48, k = 0) #17.1\n",
    "stats.poisson.pmf(mu = 48, k = 34) #17.2"
   ]
  },
  {
   "cell_type": "code",
   "execution_count": 9,
   "metadata": {},
   "outputs": [
    {
     "data": {
      "text/plain": [
       "np.float64(0.049787068367863944)"
      ]
     },
     "execution_count": 9,
     "metadata": {},
     "output_type": "execute_result"
    }
   ],
   "source": [
    "#q15\n",
    "stats.poisson.pmf(mu = 3, k = 5) #15.1\n",
    "stats.poisson.pmf(mu = 3, k = 0) + stats.poisson.pmf(mu = 3, k = 1) #15.2\n",
    "stats.poisson.pmf(mu = 3, k = 0) #15.3"
   ]
  },
  {
   "cell_type": "code",
   "execution_count": 10,
   "metadata": {},
   "outputs": [
    {
     "data": {
      "text/plain": [
       "np.float64(0.49232316970042855)"
      ]
     },
     "execution_count": 10,
     "metadata": {},
     "output_type": "execute_result"
    }
   ],
   "source": [
    "#q16\n",
    "stats.poisson.pmf(mu = 1200, k = 314) #16.1\n",
    "1 - sum([stats.poisson.pmf(mu=1200, k=i) for i in range(700)]) #16.2\n",
    "stats.poisson.pmf(mu = 1200, k = 0) #16.3\n",
    "1 - sum([stats.poisson.pmf(mu=1200, k=i) for i in range(1201)]) #16.4"
   ]
  },
  {
   "cell_type": "code",
   "execution_count": 13,
   "metadata": {},
   "outputs": [],
   "source": [
    "z = (79.166 - 49.675) / 12.393\n",
    "z2 = (91.666 - 40.417) / 18.813\n",
    "z3 = (66.250 - 46.473) / 15.733\n",
    "z4 = (70.583 - 62.134) / 12.473\n",
    "z5 = (50.666 - 44.055) / 10.619"
   ]
  }
 ],
 "metadata": {
  "kernelspec": {
   "display_name": "Python 3",
   "language": "python",
   "name": "python3"
  },
  "language_info": {
   "codemirror_mode": {
    "name": "ipython",
    "version": 3
   },
   "file_extension": ".py",
   "mimetype": "text/x-python",
   "name": "python",
   "nbconvert_exporter": "python",
   "pygments_lexer": "ipython3",
   "version": "3.11.9"
  }
 },
 "nbformat": 4,
 "nbformat_minor": 2
}
